{
 "cells": [
  {
   "attachments": {},
   "cell_type": "markdown",
   "metadata": {},
   "source": [
    "### <font color='white'> Financial Processes Simulation Course. <font>\n",
    "\n",
    "<img style=\"float: left; margin: 30px 15px 15px 15px;\" src=\"https://upload.wikimedia.org/wikipedia/commons/thumb/d/db/Logo_ITESO_normal.jpg/138px-Logo_ITESO_normal.jpg\" width=\"138\" height=\"240\" align-text=\"auto\" margin=\"auto\" />\n",
    "\n",
    "\n",
    "<font color = 'gray'> \n",
    "\n",
    "**Team:**\n",
    "1. [José Antonio Contreras Peña](https://github.com/jancope)<br>\n",
    "2. [Esteban Márquez Delgado](https://github.com/EstebanMqz)\n",
    "\n",
    "**Date:** August 31, 2021.\n",
    "\n",
    "**Professor:** [Oscar David Jaramillo Zuluaga](https://github.com/odjaramilloz)\n",
    "\n",
    "**Repository**: https://github.com/EstebanMqz/FPS-Hw1\n",
    "<font>\n",
    "<br><br><br><br><br><br><br>\n",
    "*<font color= 'orange'> Assignment 1: Class 2 <font>*"
   ]
  },
  {
   "attachments": {},
   "cell_type": "markdown",
   "metadata": {},
   "source": [
    "#### *Delivery date: September 1st.*\n",
    "**Note:** *Remember that in canvas you will find the Task Template file, where you must solve all your tasks.*<br>\n",
    "*This file contains the guidelines needed to create the joint archive on Github, using Jupyter notebooks:*\n",
    "\n",
    "##### Instructions:\n",
    "1. The archive must be done in pairs and only one of the two must create a repository in their *Github* account with the name **JointProject\\_LASTNAME1\\_LASTNAME2** *(renamed)*. We will call the person who created the repository (STUDENT 1 ). The SURNAME must be written (Initials of the name and first surname), for example if I created the file I should name it *JointProject\\_ODJaramillo*. \n",
    "2. Subsequently, from the account of (STUDENT 2), 'the one who did not create the previous repository', enter the profile of STUDENT 1 and in the repository created in step 1, perform a \"fork\" of this repository in his profile , and also carry out the steps in Gitkraken to make said repository \"Remote (REMOTE)\" SEE SAID PROCEDURE IN THE CLASS **Clase2_GitTurorial2**. \n",
    "3. After completing steps 1 and 2, STUDENT 1 and STUDENT 2, from their computer, make a *clone* of the repository created in number 1 in the folder that each person has assigned for the course on their computer. \n",
    "4. Then from Jupyter STUDENT 1, create a new ``notebook`` in the repository from step 3. \n",
    "5. In this new notebook, STUDENT 1 and STUDENT 2 must make a presentation describing their expectations for the course and the transcription of Figure 1 and Figure 2 respectively, using the Markdown syntax. Remember to define some cells where each user will modify the python notebook to avoid future conflicts. \n",
    "\n",
    "**RECOMMENDATION: BEFORE YOU START MAKING MANY MODIFICATIONS TO THE NOTEBOOK, FIRST MAKE SMALL CHANGES TO THE FILE AS A WHOLE AND CHECK IF BOTH ``STUDENT 1`` AND ``STUDENT 2`` RECEIVE THE UPDATES THAT EACH OTHER DOES IN THE FILE PROJECT TO VERIFY THAT THE REMOTE WAS PROPERLY CONFIGURED.**\n",
    " >I recommend you see the following links to see different functions to write in markdown. \n",
    " >    - [Online table creator](https://www.tablesgenerator.com/markdown_tables) \n",
    " >    - [markdown syntax](https://joplinapp.org/markdown/) \n",
    "\n",
    "6. When the joint project is found with the information of STUDENT 1 and STUDENT 2, ``STUDENT 2`` must make a `pull request` with the modifications made to ``STUDENT 1` so that he can perform a merge to the `master` branch, with the modifications proposed by `STUDENT 2`, AS IT WAS DONE IN CLASS. (Remember that pull requests are generated in *Gitkraken* and the comments or changes proposed by your partner are managed from *Github* see `Clase1_GitTurorial` for clarification of doubts, where it is explained how to create *branch and pull request*)."
   ]
  },
  {
   "attachments": {},
   "cell_type": "markdown",
   "metadata": {},
   "source": [
    "#### **Course expectations:** \n",
    "<span style='color:orange'> José Antonio Contreras Peña </span><br>\n",
    "*I study Financial Engineering and in this subject my expectations are to learn to analyze financial processes through programming and to be able to have the opportunity to work with different people to favor communication and teamwork.*\n",
    "\n",
    "<span style='color:lightgreen'> Esteban Márquez Delgado </span><br> \n",
    "*My expectations of the course are to learn Python and Git as much as possible to make the most of my time, satisfy my curiosity, share my collaborations and to keep learning easily on a daily basis.*"
   ]
  },
  {
   "attachments": {},
   "cell_type": "markdown",
   "metadata": {},
   "source": [
    "### <span style='color:orange'> Solution code Figure 1 (José Antonio) </span><br> "
   ]
  },
  {
   "cell_type": "markdown",
   "metadata": {},
   "source": [
    "\\begin{array}{|c|c|c|}\n",
    "\\hline i & x & f (x) \\\\\n",
    "\\hline 0 & -1 & 0.3678 \\\\\n",
    "\\color{red}{1}&\\color{red}{-0.5}&\\color{red}{0.7788} \\\\\n",
    "\\color{blue}{2}&\\color{blue}{0}&\\color{blue}{1} \\\\\n",
    "\\color{red}{3}&\\color{red}{0.5}&\\color{red}{0.7788} \\\\\n",
    "4&1&0.3678 \\\\\n",
    "\\hline\n",
    "\\end{array}"
   ]
  },
  {
   "attachments": {},
   "cell_type": "markdown",
   "metadata": {},
   "source": [
    "**Table 1:** Table of values of $f(x)$ for $x$ in $[-1,1]$. "
   ]
  },
  {
   "attachments": {},
   "cell_type": "markdown",
   "metadata": {},
   "source": [
    "\n",
    "$\\int_{-1}^{1} e^{-x2} dx$   $\\approx$ $\\frac{0,5}{3}$ {$f(-1)+f(1)+4$ <font color=red> [f(-,5)+f(0,5)  +2<font color= blue > f(0)</font>]</font>} \n",
    "</div>"
   ]
  },
  {
   "attachments": {},
   "cell_type": "markdown",
   "metadata": {},
   "source": [
    "\n",
    "$\\approx$ $\\frac{0,5}{3}$ [[0,3678 + 0,3678 + 4]\n",
    "<font color= red > ($0,7788 + 0,7788$)</font> \n",
    "+2 $\\cdot$ <font color= blue > 1</font>$]$ $\\approx$ $1,4943$\n",
    "</div>"
   ]
  },
  {
   "attachments": {},
   "cell_type": "markdown",
   "metadata": {},
   "source": [
    "By way of verification, the value of the area for n=100 will be calculated by software, a value much higher than that used previously. If the previously calculated is correct, it would be expected that it be close to the value presented below to be a good approximation."
   ]
  },
  {
   "attachments": {},
   "cell_type": "markdown",
   "metadata": {},
   "source": [
    "\n",
    "$\\int_{-1}^{1} e^{-x2} dx$   $\\approx$ $1,4936$\n"
   ]
  },
  {
   "attachments": {},
   "cell_type": "markdown",
   "metadata": {},
   "source": [
    "### Exercise 1: (statement) Transcribe it \n",
    "7. After completing the previous steps, STUDENT 1 will create a program that prints the fibonacci series for its first 100 terms in a python array, using the \"master\" branch of the created repository. On the other hand, STUDENT 2, by creating a “branch” called `ejerProgram`, will generate a program that shows the prime numbers from 0-100. After STUDENT 2 has finished his program, he must make a “pull request” to STUDENT 1, **BEFORE** merging the `ejerProgram` branch in the main project (“master”). After performing these steps **DO NOT DELETE THE CREATED BRANCH (`ejerPrograma`)**"
   ]
  },
  {
   "attachments": {},
   "cell_type": "markdown",
   "metadata": {},
   "source": [
    "### <span style='color:lightgreen'> Solution code Figure 2 (Esteban Márquez) </span><br> \n"
   ]
  },
  {
   "attachments": {},
   "cell_type": "markdown",
   "metadata": {},
   "source": [
    "<span style=\"color:lightblue\" font=\"Times New Roman\" size=\"14\"> Kemna and Vorst (1990)  show that Asian continuous geometric mean options can be valued with the same approach as *plain vanilla* options.\n",
    "Only the volatility parameters σ should be changed to $σ_a$, and the carry cost to $b_A$.\n",
    "\n",
    "If the formulas for valuing a call and a put option are given by the following stochastic differential equations:\n",
    "    \n",
    "$c≈S_Ie^{(b_A -r)(T-t)}Φ(d_1)-Ke^{(-r)(T-t)}Φ(d_2)$,\n",
    "    \n",
    "$p≈K_e^{-r(T-t)}Φ(d_2)-S_Ie^{(b_A -r)(T-t)}Φ(-d_1) $\n",
    "\n",
    "with *$d_1$* and *$d_2$* given by:\n",
    "    \n",
    "$ d_1= \\frac{(ln[S_t]/K)+(b_A + 1/2\\sigma_a^2)(T-t)}{\\sigma\\sqrt{T-t}} $\n",
    "    \n",
    "$ d_2= d_1-\\sigma_a\\sqrt{T-t}$\n",
    "\n",
    "The function Φ(d) is the cdf for $E\\sim \\mathcal{N}(0,1)$.\n",
    "    \n",
    "and the adjusted volatility is equal to:\n",
    "$$\\quad \\sigma_a = \\frac{\\sigma}{\\sqrt{3}}$$ \n",
    "while the adjusted carry cost is: $$\\quad b_A = \\frac{1}{2} \\left( v - \\frac{\\sigma^2}{6} \\right)$$\n",
    "\n",
    "\n",
    "\n"
   ]
  },
  {
   "attachments": {},
   "cell_type": "markdown",
   "metadata": {},
   "source": [
    "### <span style='color:orange'> Fibonacci (José Antonio) </span>\n"
   ]
  },
  {
   "cell_type": "code",
   "execution_count": 2,
   "metadata": {},
   "outputs": [
    {
     "name": "stdout",
     "output_type": "stream",
     "text": [
      "First 100 Fibonnacci numbers are:\n",
      "[0, 1, 1, 2, 3, 5, 8, 13, 21, 34, 55, 89, 144, 233, 377, 610, 987, 1597, 2584, 4181, 6765, 10946, 17711, 28657, 46368, 75025, 121393, 196418, 317811, 514229, 832040, 1346269, 2178309, 3524578, 5702887, 9227465, 14930352, 24157817, 39088169, 63245986, 102334155, 165580141, 267914296, 433494437, 701408733, 1134903170, 1836311903, 2971215073, 4807526976, 7778742049, 12586269025, 20365011074, 32951280099, 53316291173, 86267571272, 139583862445, 225851433717, 365435296162, 591286729879, 956722026041, 1548008755920, 2504730781961, 4052739537881, 6557470319842, 10610209857723, 17167680177565, 27777890035288, 44945570212853, 72723460248141, 117669030460994, 190392490709135, 308061521170129, 498454011879264, 806515533049393, 1304969544928657, 2111485077978050, 3416454622906707, 5527939700884757, 8944394323791464, 14472334024676221, 23416728348467685, 37889062373143906, 61305790721611591, 99194853094755497, 160500643816367088, 259695496911122585, 420196140727489673, 679891637638612258, 1100087778366101931, 1779979416004714189, 2880067194370816120, 4660046610375530309, 7540113804746346429, 12200160415121876738, 19740274219868223167, 31940434634990099905, 51680708854858323072, 83621143489848422977, 135301852344706746049, 218922995834555169026, 354224848179261915075, 573147844013817084101]\n"
     ]
    }
   ],
   "source": [
    "import numpy as np\n",
    "print(\"First 100 Fibonnacci numbers are:\")\n",
    "x=1\n",
    "y=2\n",
    "w=0\n",
    "arr = ([0,1])\n",
    "\n",
    "while w<100:\n",
    "    arr=arr+[x]\n",
    "    x1=x\n",
    "    y1=y\n",
    "    x=y1\n",
    "    y=x1+y1\n",
    "    w = w+1\n",
    "print(arr)"
   ]
  },
  {
   "attachments": {},
   "cell_type": "markdown",
   "metadata": {},
   "source": [
    "### <span style='color:lightgreen'> Odd numbers 1-100 (Esteban) </span>"
   ]
  },
  {
   "cell_type": "code",
   "execution_count": 3,
   "metadata": {},
   "outputs": [
    {
     "name": "stdout",
     "output_type": "stream",
     "text": [
      "The odd numbers from 1 to 100 are:\n",
      "1 3 5 7 9 11 13 15 17 19 21 23 25 27 29 31 33 35 37 39 41 43 45 47 49 51 53 55 57 59 61 63 65 67 69 71 73 75 77 79 81 83 85 87 89 91 93 95 97 99 "
     ]
    }
   ],
   "source": [
    "inicio, fin = 0,100\n",
    "print(\"The odd numbers from 1 to 100 are:\")\n",
    "for num in range(inicio, fin + 1): \n",
    "    if num % 2 != 0: \n",
    "        print(num, end = \" \") "
   ]
  }
 ],
 "metadata": {
  "kernelspec": {
   "display_name": "Python 3",
   "language": "python",
   "name": "python3"
  },
  "language_info": {
   "codemirror_mode": {
    "name": "ipython",
    "version": 3
   },
   "file_extension": ".py",
   "mimetype": "text/x-python",
   "name": "python",
   "nbconvert_exporter": "python",
   "pygments_lexer": "ipython3",
   "version": "3.8.13"
  }
 },
 "nbformat": 4,
 "nbformat_minor": 2
}
